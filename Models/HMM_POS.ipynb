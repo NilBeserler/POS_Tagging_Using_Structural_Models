{
 "cells": [
  {
   "cell_type": "code",
   "execution_count": 1,
   "id": "a712f04e",
   "metadata": {},
   "outputs": [],
   "source": [
    "import nltk\n",
    "from nltk.corpus import treebank\n",
    "from nltk.tag import HiddenMarkovModelTagger\n",
    "from sklearn.model_selection import train_test_split\n",
    "import time"
   ]
  },
  {
   "cell_type": "code",
   "execution_count": 2,
   "id": "8e1c3edd",
   "metadata": {},
   "outputs": [],
   "source": [
    "#Importing the corpus, simplifying tags and preprocessing the data\n",
    "tagged_sentences = treebank.tagged_sents()[:1000]\n",
    "\n",
    "def simplify_tag(tag):\n",
    "    if tag.startswith('N'): return \"NOUN\"\n",
    "    elif tag.startswith('V'): return \"VERB\"\n",
    "    elif tag.startswith('J'): return \"ADJ\"\n",
    "    else: return \"OTHER\"\n",
    "\n",
    "def preprocess_sentence(tagged_sentence):\n",
    "    words, tags = zip(*tagged_sentence)\n",
    "    words = [word.lower() for word in words]\n",
    "    tags = [simplify_tag(tag) for tag in tags]\n",
    "    return list(zip(words, tags))"
   ]
  },
  {
   "cell_type": "code",
   "execution_count": 3,
   "id": "f024bd27",
   "metadata": {},
   "outputs": [],
   "source": [
    "#Applying the preprocessing and splitting the dataset\n",
    "tagged_sentences = [preprocess_sentence(sentence) for sentence in tagged_sentences]\n",
    "\n",
    "train_data, test_data = train_test_split(tagged_sentences, test_size=0.2, random_state=42)\n"
   ]
  },
  {
   "cell_type": "code",
   "execution_count": 4,
   "id": "8c0f0269",
   "metadata": {},
   "outputs": [
    {
     "name": "stdout",
     "output_type": "stream",
     "text": [
      "Training time: 0.03914356231689453 sec\n"
     ]
    }
   ],
   "source": [
    "#Solving the HMM problem\n",
    "start_time = time.time()\n",
    "hmm_tagger = HiddenMarkovModelTagger.train(train_data)\n",
    "end_time = time.time()\n",
    "print(f'Training time: {end_time - start_time} sec')\n"
   ]
  },
  {
   "cell_type": "code",
   "execution_count": 5,
   "id": "a84df8b6",
   "metadata": {},
   "outputs": [
    {
     "name": "stdout",
     "output_type": "stream",
     "text": [
      "Testing time: 0.19546222686767578 sec\n",
      "Accuracy:  0.8950136755733221\n"
     ]
    },
    {
     "name": "stderr",
     "output_type": "stream",
     "text": [
      "/tmp/ipykernel_142/4276727680.py:2: DeprecationWarning: \n",
      "  Function evaluate() has been deprecated.  Use accuracy(gold)\n",
      "  instead.\n",
      "  accuracy = hmm_tagger.evaluate(test_data)\n"
     ]
    }
   ],
   "source": [
    "#Accuracy Calculation\n",
    "start_time = time.time()\n",
    "accuracy = hmm_tagger.evaluate(test_data)\n",
    "end_time = time.time()\n",
    "print(f'Testing time: {end_time - start_time} sec')\n",
    "print('Accuracy: ', accuracy)\n"
   ]
  },
  {
   "cell_type": "code",
   "execution_count": 6,
   "id": "85142bc3",
   "metadata": {},
   "outputs": [
    {
     "name": "stdout",
     "output_type": "stream",
     "text": [
      "\n",
      "Example 1\n",
      "Sentence: *-2 filmed *-1 in lovely black and white by bill dill , the new york streets of `` sidewalk stories '' seem benign .\n",
      "True labels: OTHER VERB OTHER OTHER ADJ NOUN OTHER NOUN OTHER NOUN NOUN OTHER OTHER NOUN NOUN NOUN OTHER OTHER NOUN NOUN OTHER VERB ADJ OTHER\n",
      "Predicted labels: OTHER VERB OTHER OTHER ADJ NOUN OTHER NOUN OTHER NOUN VERB OTHER OTHER ADJ NOUN NOUN OTHER OTHER NOUN NOUN OTHER VERB VERB OTHER\n",
      "\n",
      "Example 2\n",
      "Sentence: in 1986-87 and 1987-88 , she applied for *rnr*-1 and won *rnr*-1 bonus pay under the reform law .\n",
      "True labels: OTHER OTHER OTHER OTHER OTHER OTHER VERB OTHER OTHER OTHER VERB OTHER NOUN NOUN OTHER OTHER NOUN NOUN OTHER\n",
      "Predicted labels: OTHER VERB OTHER VERB OTHER OTHER VERB OTHER OTHER OTHER VERB OTHER NOUN VERB OTHER OTHER NOUN NOUN OTHER\n",
      "\n",
      "Example 3\n",
      "Sentence: `` she was an inspirational lady ; she had it all together , '' says *t*-1 laura dobson , a freshman at the university of south carolina who *t*-90 had mrs. yeargin in the teacher-cadet class last year .\n",
      "True labels: OTHER OTHER VERB OTHER ADJ NOUN OTHER OTHER VERB OTHER OTHER OTHER OTHER OTHER VERB OTHER NOUN NOUN OTHER OTHER NOUN OTHER OTHER NOUN OTHER NOUN NOUN OTHER OTHER VERB NOUN NOUN OTHER OTHER ADJ NOUN ADJ NOUN OTHER\n",
      "Predicted labels: OTHER OTHER VERB OTHER ADJ NOUN OTHER OTHER VERB OTHER OTHER OTHER OTHER OTHER VERB OTHER ADJ NOUN OTHER OTHER VERB OTHER OTHER NOUN OTHER NOUN NOUN OTHER NOUN VERB NOUN NOUN OTHER OTHER ADJ NOUN ADJ NOUN OTHER\n"
     ]
    }
   ],
   "source": [
    "#Printing example sentences\n",
    "for i in range(3): \n",
    "    print(\"\\nExample\", i+1)\n",
    "    test_sentence, test_tags = zip(*test_data[i])\n",
    "    predicted_tags = hmm_tagger.tag(test_sentence)\n",
    "\n",
    "    print(\"Sentence:\", \" \".join(test_sentence))\n",
    "    print(\"True labels:\", \" \".join(test_tags))\n",
    "    print(\"Predicted labels:\", \" \".join(tag for word, tag in predicted_tags))\n"
   ]
  },
  {
   "cell_type": "code",
   "execution_count": null,
   "id": "6eb2cd9e",
   "metadata": {},
   "outputs": [],
   "source": []
  }
 ],
 "metadata": {
  "kernelspec": {
   "display_name": "Python 3 (ipykernel)",
   "language": "python",
   "name": "python3"
  },
  "language_info": {
   "codemirror_mode": {
    "name": "ipython",
    "version": 3
   },
   "file_extension": ".py",
   "mimetype": "text/x-python",
   "name": "python",
   "nbconvert_exporter": "python",
   "pygments_lexer": "ipython3",
   "version": "3.9.5"
  }
 },
 "nbformat": 4,
 "nbformat_minor": 5
}

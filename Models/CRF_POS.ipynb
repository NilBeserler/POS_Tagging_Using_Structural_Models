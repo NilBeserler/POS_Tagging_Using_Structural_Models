{
 "cells": [
  {
   "cell_type": "code",
   "execution_count": 1,
   "id": "73b946cc",
   "metadata": {},
   "outputs": [],
   "source": [
    "import nltk\n",
    "from nltk.corpus import treebank\n",
    "from sklearn.model_selection import train_test_split\n",
    "import numpy as np\n",
    "import time\n",
    "import random\n",
    "from sklearn_crfsuite import CRF, metrics\n",
    "from sklearn_crfsuite.metrics import flat_accuracy_score\n"
   ]
  },
  {
   "cell_type": "code",
   "execution_count": 2,
   "id": "3484570e",
   "metadata": {},
   "outputs": [],
   "source": [
    "#Importing the corpus, simplifying tags and preprocessing the data\n",
    "tagged_sentences = treebank.tagged_sents()[:1000] \n",
    "\n",
    "def simplify_tag(tag):\n",
    "    if tag.startswith('N'): return \"NOUN\"\n",
    "    elif tag.startswith('V'): return \"VERB\"\n",
    "    elif tag.startswith('J'): return \"ADJ\"\n",
    "    else: return \"OTHER\"\n",
    "\n",
    "def preprocess_sentence(tagged_sentence):\n",
    "    words, tags = zip(*tagged_sentence)\n",
    "    words = [word.lower() for word in words]\n",
    "    tags = [simplify_tag(tag) for tag in tags]\n",
    "    return words, tags\n"
   ]
  },
  {
   "cell_type": "code",
   "execution_count": 3,
   "id": "914b754e",
   "metadata": {},
   "outputs": [],
   "source": [
    "sentences, labels = zip(*[preprocess_sentence(sentence) for sentence in tagged_sentences])\n",
    "\n",
    "#Extracting additional features\n",
    "def word_features(sentence, index):\n",
    "    features = {\n",
    "        'word': sentence[index],\n",
    "        'is_first': index == 0,\n",
    "        'is_last': index == len(sentence) - 1,\n",
    "        'is_capitalized': sentence[index][0].upper() == sentence[index][0],\n",
    "        'is_all_caps': sentence[index].upper() == sentence[index],\n",
    "        'is_all_lower': sentence[index].lower() == sentence[index],\n",
    "        'prefix-1': sentence[index][0],\n",
    "        'prefix-2': sentence[index][:2],\n",
    "        'prefix-3': sentence[index][:3],\n",
    "        'suffix-1': sentence[index][-1],\n",
    "        'suffix-2': sentence[index][-2:],\n",
    "        'suffix-3': sentence[index][-3:],\n",
    "        'prev_word': '' if index == 0 else sentence[index - 1],\n",
    "        'next_word': '' if index == len(sentence) - 1 else sentence[index + 1],\n",
    "        'prev_prev_word': '' if index == 0 or index == 1 else sentence[index - 2],\n",
    "        'next_next_word': '' if index >= len(sentence) - 2 else sentence[index + 2],\n",
    "    }\n",
    "    return features"
   ]
  },
  {
   "cell_type": "code",
   "execution_count": 4,
   "id": "b8bf3f78",
   "metadata": {},
   "outputs": [],
   "source": [
    "#Splittingg the dataset \n",
    "X = [[word_features(s, i) for i in range(len(s))] for s in sentences]\n",
    "y = labels\n",
    "\n",
    "X_train, X_test, y_train, y_test = train_test_split(X, y, test_size=0.2)\n"
   ]
  },
  {
   "cell_type": "code",
   "execution_count": 5,
   "id": "ede0a13f",
   "metadata": {},
   "outputs": [
    {
     "name": "stdout",
     "output_type": "stream",
     "text": [
      "Training time:  2.3529932498931885 sec\n"
     ]
    }
   ],
   "source": [
    "#Solving the CRF Problem\n",
    "start_time = time.time()\n",
    "crf = CRF(\n",
    "    algorithm='lbfgs',\n",
    "    c1=0.1,\n",
    "    c2=0.1,\n",
    "    max_iterations=100,\n",
    "    all_possible_transitions=True\n",
    ")\n",
    "crf.fit(X_train, y_train)\n",
    "end_time = time.time()\n",
    "\n",
    "print(\"Training time: \", end_time - start_time, \"sec\")\n"
   ]
  },
  {
   "cell_type": "code",
   "execution_count": 9,
   "id": "ecd59a9d",
   "metadata": {},
   "outputs": [
    {
     "name": "stdout",
     "output_type": "stream",
     "text": [
      "Testing time:  0.11095976829528809 sec\n",
      "Accuracy:  0.9508093336136221\n"
     ]
    }
   ],
   "source": [
    "#Calculating Accuracy\n",
    "start_time = time.time()\n",
    "y_pred = crf.predict(X_test)\n",
    "end_time = time.time()\n",
    "\n",
    "print(\"Testing time: \", end_time - start_time, \"sec\")\n",
    "\n",
    "\n",
    "accuracy = flat_accuracy_score(y_test, y_pred)\n",
    "print(\"Accuracy: \", accuracy)\n"
   ]
  },
  {
   "cell_type": "code",
   "execution_count": 7,
   "id": "b988557e",
   "metadata": {},
   "outputs": [
    {
     "name": "stdout",
     "output_type": "stream",
     "text": [
      "Sentence:  ['on', 'the', 'back', ',', 'the', 'shirts', 'read', ',', '``', 'we', 'have', 'all', 'the', 'answers', '.', \"''\"]\n",
      "True labels:  ['OTHER', 'OTHER', 'NOUN', 'OTHER', 'OTHER', 'NOUN', 'VERB', 'OTHER', 'OTHER', 'OTHER', 'VERB', 'OTHER', 'OTHER', 'NOUN', 'OTHER', 'OTHER']\n",
      "Predicted labels:  ['OTHER', 'OTHER', 'NOUN', 'OTHER', 'OTHER', 'NOUN', 'NOUN', 'OTHER', 'OTHER', 'OTHER', 'VERB', 'OTHER', 'OTHER', 'NOUN', 'OTHER', 'OTHER']\n",
      "\n",
      "\n",
      "Sentence:  ['``', 'it', \"'s\", 'an', 'odd', 'thing', '0', '*', 'to', 'put', '*t*-1', 'on', 'the', 'list', ',', \"''\", 'mr.', 'bretz', 'noted', '*t*-2', '.']\n",
      "True labels:  ['OTHER', 'OTHER', 'VERB', 'OTHER', 'ADJ', 'NOUN', 'OTHER', 'OTHER', 'OTHER', 'VERB', 'OTHER', 'OTHER', 'OTHER', 'NOUN', 'OTHER', 'OTHER', 'NOUN', 'NOUN', 'VERB', 'OTHER', 'OTHER']\n",
      "Predicted labels:  ['OTHER', 'OTHER', 'VERB', 'OTHER', 'ADJ', 'NOUN', 'OTHER', 'OTHER', 'OTHER', 'VERB', 'OTHER', 'OTHER', 'OTHER', 'NOUN', 'OTHER', 'OTHER', 'NOUN', 'NOUN', 'VERB', 'OTHER', 'OTHER']\n",
      "\n",
      "\n",
      "Sentence:  ['the', 'issue', 'will', 'be', 'swapped', '*-70', 'into', 'fixed-rate', 'u.s.', 'dollars', 'at', 'a', 'rate', '0', 'the', 'company', 'said', '0', '*t*-1', 'is', 'less', 'than', '9', '%', ';', 'a', 'spokesman', 'declined', '*-2', 'to', 'elaborate', '.']\n",
      "True labels:  ['OTHER', 'NOUN', 'OTHER', 'VERB', 'VERB', 'OTHER', 'OTHER', 'ADJ', 'NOUN', 'NOUN', 'OTHER', 'OTHER', 'NOUN', 'OTHER', 'OTHER', 'NOUN', 'VERB', 'OTHER', 'OTHER', 'VERB', 'ADJ', 'OTHER', 'OTHER', 'NOUN', 'OTHER', 'OTHER', 'NOUN', 'VERB', 'OTHER', 'OTHER', 'VERB', 'OTHER']\n",
      "Predicted labels:  ['OTHER', 'NOUN', 'OTHER', 'VERB', 'VERB', 'OTHER', 'OTHER', 'ADJ', 'NOUN', 'NOUN', 'OTHER', 'OTHER', 'NOUN', 'OTHER', 'OTHER', 'NOUN', 'VERB', 'OTHER', 'OTHER', 'VERB', 'ADJ', 'OTHER', 'OTHER', 'NOUN', 'OTHER', 'OTHER', 'NOUN', 'VERB', 'OTHER', 'OTHER', 'VERB', 'OTHER']\n",
      "\n",
      "\n"
     ]
    }
   ],
   "source": [
    "#Printing example sentences\n",
    "for _ in range(3):\n",
    "    example_index = random.randint(0, len(X_test)-1)\n",
    "    print(\"Sentence: \", [x['word'] for x in X_test[example_index]])\n",
    "    print(\"True labels: \", y_test[example_index])\n",
    "    print(\"Predicted labels: \", y_pred[example_index])\n",
    "    print(\"\\n\")\n"
   ]
  },
  {
   "cell_type": "code",
   "execution_count": null,
   "id": "ad378f44",
   "metadata": {},
   "outputs": [],
   "source": []
  }
 ],
 "metadata": {
  "kernelspec": {
   "display_name": "Python 3 (ipykernel)",
   "language": "python",
   "name": "python3"
  },
  "language_info": {
   "codemirror_mode": {
    "name": "ipython",
    "version": 3
   },
   "file_extension": ".py",
   "mimetype": "text/x-python",
   "name": "python",
   "nbconvert_exporter": "python",
   "pygments_lexer": "ipython3",
   "version": "3.9.5"
  }
 },
 "nbformat": 4,
 "nbformat_minor": 5
}
